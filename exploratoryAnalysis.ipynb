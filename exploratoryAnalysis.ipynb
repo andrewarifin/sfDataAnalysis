{
 "cells": [
  {
   "cell_type": "code",
   "execution_count": 37,
   "metadata": {},
   "outputs": [],
   "source": [
    "import pandas as pd\n",
    "import matplotlib.pyplot as plt\n",
    "import numpy as np\n",
    "import statsmodels.api as sm\n",
    "\n",
    "%matplotlib inline"
   ]
  },
  {
   "cell_type": "code",
   "execution_count": 38,
   "metadata": {},
   "outputs": [
    {
     "data": {
      "text/plain": [
       "Index(['SFPUC Code', 'Facility', 'Notes', 'Dpt.', 'General Building Category',\n",
       "       'Facility Type', 'ENERGY STAR Bldg Type', 'Year Built', 'Year Renov.',\n",
       "       '2013 Building Area (sq. ft.)', '2013 Site EUI (kBtu/sq.ft.)',\n",
       "       '2013 ENERGY STAR rating '],\n",
       "      dtype='object')"
      ]
     },
     "execution_count": 38,
     "metadata": {},
     "output_type": "execute_result"
    }
   ],
   "source": [
    "df = pd.read_csv('sfEnergyBenchmarks.csv', thousands=',')\n",
    "df.columns"
   ]
  },
  {
   "cell_type": "code",
   "execution_count": 3,
   "metadata": {
    "collapsed": true
   },
   "outputs": [],
   "source": [
    "eui = '2013 Site EUI (kBtu/sq.ft.)'\n",
    "buildingArea = '2013 Building Area (sq. ft.)'\n",
    "yearBuilt = 'Year Built'\n",
    "buildingCategory = 'General Building Category'"
   ]
  },
  {
   "cell_type": "markdown",
   "metadata": {},
   "source": [
    "## General Building Category Analysis"
   ]
  },
  {
   "cell_type": "code",
   "execution_count": 4,
   "metadata": {
    "scrolled": true
   },
   "outputs": [
    {
     "data": {
      "text/plain": [
       "<matplotlib.axes._subplots.AxesSubplot at 0x1c0ebc9160>"
      ]
     },
     "execution_count": 4,
     "metadata": {},
     "output_type": "execute_result"
    },
    {
     "data": {
      "image/png": "[encoded data removed]",
      "text/plain": [
       "<matplotlib.figure.Figure at 0x1c0eb9e828>"
      ]
     },
     "metadata": {},
     "output_type": "display_data"
    }
   ],
   "source": [
    "meanBuildingCategory_df = df.groupby([buildingCategory]).mean().reset_index().sort_values(eui)\n",
    "meanBuildingCategory_df.plot(x=buildingCategory, y=eui, kind='bar')\n"
   ]
  },
  {
   "cell_type": "markdown",
   "metadata": {},
   "source": [
    "## Hospital Category Analysis"
   ]
  },
  {
   "cell_type": "code",
   "execution_count": 5,
   "metadata": {
    "scrolled": true
   },
   "outputs": [
    {
     "data": {
      "text/html": [
       "<div>\n",
       "<style>\n",
       "    .dataframe thead tr:only-child th {\n",
       "        text-align: right;\n",
       "    }\n",
       "\n",
       "    .dataframe thead th {\n",
       "        text-align: left;\n",
       "    }\n",
       "\n",
       "    .dataframe tbody tr th {\n",
       "        vertical-align: top;\n",
       "    }\n",
       "</style>\n",
       "<table border=\"1\" class=\"dataframe\">\n",
       "  <thead>\n",
       "    <tr style=\"text-align: right;\">\n",
       "      <th></th>\n",
       "      <th>SFPUC Code</th>\n",
       "      <th>Facility</th>\n",
       "      <th>Notes</th>\n",
       "      <th>Dpt.</th>\n",
       "      <th>General Building Category</th>\n",
       "      <th>Facility Type</th>\n",
       "      <th>ENERGY STAR Bldg Type</th>\n",
       "      <th>Year Built</th>\n",
       "      <th>Year Renov.</th>\n",
       "      <th>2013 Building Area (sq. ft.)</th>\n",
       "      <th>2013 Site EUI (kBtu/sq.ft.)</th>\n",
       "      <th>2013 ENERGY STAR rating</th>\n",
       "    </tr>\n",
       "  </thead>\n",
       "  <tbody>\n",
       "    <tr>\n",
       "      <th>211</th>\n",
       "      <td>192</td>\n",
       "      <td>San Francisco General Hospital</td>\n",
       "      <td>This location was under construction or vacant...</td>\n",
       "      <td>DPH</td>\n",
       "      <td>Hospitals</td>\n",
       "      <td>hospital</td>\n",
       "      <td>Hospital</td>\n",
       "      <td>1915.0</td>\n",
       "      <td>1976.0</td>\n",
       "      <td>1370904</td>\n",
       "      <td>376.6</td>\n",
       "      <td>NaN</td>\n",
       "    </tr>\n",
       "    <tr>\n",
       "      <th>212</th>\n",
       "      <td>191</td>\n",
       "      <td>Laguna Honda Hospital</td>\n",
       "      <td>Not qualified for ENERGY STAR rating for hospi...</td>\n",
       "      <td>DPH</td>\n",
       "      <td>Hospitals</td>\n",
       "      <td>hospital</td>\n",
       "      <td>Hospital</td>\n",
       "      <td>1926.0</td>\n",
       "      <td>2010.0</td>\n",
       "      <td>717126</td>\n",
       "      <td>219.1</td>\n",
       "      <td>N.Q.</td>\n",
       "    </tr>\n",
       "  </tbody>\n",
       "</table>\n",
       "</div>"
      ],
      "text/plain": [
       "    SFPUC Code                        Facility  \\\n",
       "211        192  San Francisco General Hospital   \n",
       "212        191           Laguna Honda Hospital   \n",
       "\n",
       "                                                 Notes Dpt.  \\\n",
       "211  This location was under construction or vacant...  DPH   \n",
       "212  Not qualified for ENERGY STAR rating for hospi...  DPH   \n",
       "\n",
       "    General Building Category Facility Type ENERGY STAR Bldg Type  Year Built  \\\n",
       "211                 Hospitals      hospital              Hospital      1915.0   \n",
       "212                 Hospitals      hospital              Hospital      1926.0   \n",
       "\n",
       "     Year Renov.  2013 Building Area (sq. ft.)  2013 Site EUI (kBtu/sq.ft.)  \\\n",
       "211       1976.0                       1370904                        376.6   \n",
       "212       2010.0                        717126                        219.1   \n",
       "\n",
       "    2013 ENERGY STAR rating   \n",
       "211                      NaN  \n",
       "212                     N.Q.  "
      ]
     },
     "execution_count": 5,
     "metadata": {},
     "output_type": "execute_result"
    }
   ],
   "source": [
    "hospital_df = df[df[buildingCategory].isin(['Hospitals'])]\n",
    "hospital_df"
   ]
  },
  {
   "cell_type": "code",
   "execution_count": 6,
   "metadata": {
    "scrolled": false
   },
   "outputs": [
    {
     "data": {
      "image/png": "[encoded data removed]",
      "text/plain": [
       "<matplotlib.figure.Figure at 0x1083f3fd0>"
      ]
     },
     "metadata": {},
     "output_type": "display_data"
    }
   ],
   "source": [
    "labels = hospital_df['Facility']\n",
    "hospital_df.plot(kind='pie', labels=labels, y=eui, legend=False)\n",
    "ax1 = plt.axes()\n",
    "y_axis = ax1.yaxis\n",
    "y_axis.label.set_visible(False)"
   ]
  },
  {
   "cell_type": "markdown",
   "metadata": {},
   "source": [
    "## Health and Human Services"
   ]
  },
  {
   "cell_type": "code",
   "execution_count": 7,
   "metadata": {
    "scrolled": true
   },
   "outputs": [
    {
     "data": {
      "text/html": [
       "<div>\n",
       "<style>\n",
       "    .dataframe thead tr:only-child th {\n",
       "        text-align: right;\n",
       "    }\n",
       "\n",
       "    .dataframe thead th {\n",
       "        text-align: left;\n",
       "    }\n",
       "\n",
       "    .dataframe tbody tr th {\n",
       "        vertical-align: top;\n",
       "    }\n",
       "</style>\n",
       "<table border=\"1\" class=\"dataframe\">\n",
       "  <thead>\n",
       "    <tr style=\"text-align: right;\">\n",
       "      <th></th>\n",
       "      <th>SFPUC Code</th>\n",
       "      <th>Facility</th>\n",
       "      <th>Notes</th>\n",
       "      <th>Dpt.</th>\n",
       "      <th>General Building Category</th>\n",
       "      <th>Facility Type</th>\n",
       "      <th>ENERGY STAR Bldg Type</th>\n",
       "      <th>Year Built</th>\n",
       "      <th>Year Renov.</th>\n",
       "      <th>2013 Building Area (sq. ft.)</th>\n",
       "      <th>2013 Site EUI (kBtu/sq.ft.)</th>\n",
       "      <th>2013 ENERGY STAR rating</th>\n",
       "    </tr>\n",
       "  </thead>\n",
       "  <tbody>\n",
       "    <tr>\n",
       "      <th>190</th>\n",
       "      <td>784</td>\n",
       "      <td>Multi-Service Center South</td>\n",
       "      <td>NaN</td>\n",
       "      <td>HSA</td>\n",
       "      <td>Health &amp; Human Services</td>\n",
       "      <td>homeless service</td>\n",
       "      <td>Other</td>\n",
       "      <td>1924.0</td>\n",
       "      <td>NaN</td>\n",
       "      <td>25600</td>\n",
       "      <td>278.0</td>\n",
       "      <td>NaN</td>\n",
       "    </tr>\n",
       "    <tr>\n",
       "      <th>210</th>\n",
       "      <td>743</td>\n",
       "      <td>Animal Shelter</td>\n",
       "      <td>NaN</td>\n",
       "      <td>ACC</td>\n",
       "      <td>Health &amp; Human Services</td>\n",
       "      <td>veterinarian</td>\n",
       "      <td>Other</td>\n",
       "      <td>1931.0</td>\n",
       "      <td>1989.0</td>\n",
       "      <td>29500</td>\n",
       "      <td>234.2</td>\n",
       "      <td>NaN</td>\n",
       "    </tr>\n",
       "    <tr>\n",
       "      <th>191</th>\n",
       "      <td>785</td>\n",
       "      <td>Multi-Service Center North</td>\n",
       "      <td>NaN</td>\n",
       "      <td>HSA</td>\n",
       "      <td>Health &amp; Human Services</td>\n",
       "      <td>homeless service</td>\n",
       "      <td>Other</td>\n",
       "      <td>1913.0</td>\n",
       "      <td>NaN</td>\n",
       "      <td>37125</td>\n",
       "      <td>177.3</td>\n",
       "      <td>NaN</td>\n",
       "    </tr>\n",
       "    <tr>\n",
       "      <th>194</th>\n",
       "      <td>184</td>\n",
       "      <td>Ocean Park Health Center (Health Center #5)</td>\n",
       "      <td>NaN</td>\n",
       "      <td>DPH</td>\n",
       "      <td>Health &amp; Human Services</td>\n",
       "      <td>medical clinic</td>\n",
       "      <td>Other</td>\n",
       "      <td>1967.0</td>\n",
       "      <td>2009.0</td>\n",
       "      <td>16247</td>\n",
       "      <td>169.9</td>\n",
       "      <td>NaN</td>\n",
       "    </tr>\n",
       "    <tr>\n",
       "      <th>195</th>\n",
       "      <td>186</td>\n",
       "      <td>San Francisco City Clinic</td>\n",
       "      <td>NaN</td>\n",
       "      <td>DPH</td>\n",
       "      <td>Health &amp; Human Services</td>\n",
       "      <td>medical clinic</td>\n",
       "      <td>Other</td>\n",
       "      <td>1930.0</td>\n",
       "      <td>NaN</td>\n",
       "      <td>8000</td>\n",
       "      <td>148.9</td>\n",
       "      <td>NaN</td>\n",
       "    </tr>\n",
       "  </tbody>\n",
       "</table>\n",
       "</div>"
      ],
      "text/plain": [
       "    SFPUC Code                                     Facility Notes Dpt.  \\\n",
       "190        784                   Multi-Service Center South   NaN  HSA   \n",
       "210        743                               Animal Shelter   NaN  ACC   \n",
       "191        785                   Multi-Service Center North   NaN  HSA   \n",
       "194        184  Ocean Park Health Center (Health Center #5)   NaN  DPH   \n",
       "195        186                    San Francisco City Clinic   NaN  DPH   \n",
       "\n",
       "    General Building Category     Facility Type ENERGY STAR Bldg Type  \\\n",
       "190   Health & Human Services  homeless service                 Other   \n",
       "210   Health & Human Services      veterinarian                 Other   \n",
       "191   Health & Human Services  homeless service                 Other   \n",
       "194   Health & Human Services    medical clinic                 Other   \n",
       "195   Health & Human Services    medical clinic                 Other   \n",
       "\n",
       "     Year Built  Year Renov.  2013 Building Area (sq. ft.)  \\\n",
       "190      1924.0          NaN                         25600   \n",
       "210      1931.0       1989.0                         29500   \n",
       "191      1913.0          NaN                         37125   \n",
       "194      1967.0       2009.0                         16247   \n",
       "195      1930.0          NaN                          8000   \n",
       "\n",
       "     2013 Site EUI (kBtu/sq.ft.) 2013 ENERGY STAR rating   \n",
       "190                        278.0                      NaN  \n",
       "210                        234.2                      NaN  \n",
       "191                        177.3                      NaN  \n",
       "194                        169.9                      NaN  \n",
       "195                        148.9                      NaN  "
      ]
     },
     "execution_count": 7,
     "metadata": {},
     "output_type": "execute_result"
    }
   ],
   "source": [
    "services_df = df[df[buildingCategory].isin(['Health & Human Services'])]\n",
    "services_df.sort_values(eui, ascending=False).head()"
   ]
  },
  {
   "cell_type": "code",
   "execution_count": 8,
   "metadata": {},
   "outputs": [
    {
     "data": {
      "image/png": "[encoded data removed]",
      "text/plain": [
       "<matplotlib.figure.Figure at 0x108494630>"
      ]
     },
     "metadata": {},
     "output_type": "display_data"
    }
   ],
   "source": [
    "servicesLabel = services_df['Facility'].head()\n",
    "services_df.sort_values(eui, ascending=False).head().plot(kind='pie', y=eui, labels=servicesLabel, legend=False)\n",
    "ax1 = plt.axes()\n",
    "y_axis = ax1.yaxis\n",
    "y_axis.label.set_visible(False)"
   ]
  },
  {
   "cell_type": "markdown",
   "metadata": {},
   "source": [
    "## Museum Category"
   ]
  },
  {
   "cell_type": "code",
   "execution_count": 9,
   "metadata": {},
   "outputs": [
    {
     "data": {
      "text/html": [
       "<div>\n",
       "<style>\n",
       "    .dataframe thead tr:only-child th {\n",
       "        text-align: right;\n",
       "    }\n",
       "\n",
       "    .dataframe thead th {\n",
       "        text-align: left;\n",
       "    }\n",
       "\n",
       "    .dataframe tbody tr th {\n",
       "        vertical-align: top;\n",
       "    }\n",
       "</style>\n",
       "<table border=\"1\" class=\"dataframe\">\n",
       "  <thead>\n",
       "    <tr style=\"text-align: right;\">\n",
       "      <th></th>\n",
       "      <th>SFPUC Code</th>\n",
       "      <th>Facility</th>\n",
       "      <th>Notes</th>\n",
       "      <th>Dpt.</th>\n",
       "      <th>General Building Category</th>\n",
       "      <th>Facility Type</th>\n",
       "      <th>ENERGY STAR Bldg Type</th>\n",
       "      <th>Year Built</th>\n",
       "      <th>Year Renov.</th>\n",
       "      <th>2013 Building Area (sq. ft.)</th>\n",
       "      <th>2013 Site EUI (kBtu/sq.ft.)</th>\n",
       "      <th>2013 ENERGY STAR rating</th>\n",
       "    </tr>\n",
       "  </thead>\n",
       "  <tbody>\n",
       "    <tr>\n",
       "      <th>13</th>\n",
       "      <td>236</td>\n",
       "      <td>California Palace of the Legion of Honor</td>\n",
       "      <td>NaN</td>\n",
       "      <td>FAMSF</td>\n",
       "      <td>Museums and Art</td>\n",
       "      <td>museum</td>\n",
       "      <td>Other</td>\n",
       "      <td>1924.0</td>\n",
       "      <td>1995.0</td>\n",
       "      <td>117665</td>\n",
       "      <td>282.7</td>\n",
       "      <td>NaN</td>\n",
       "    </tr>\n",
       "    <tr>\n",
       "      <th>14</th>\n",
       "      <td>293</td>\n",
       "      <td>GGP -- Conservatory of Flowers</td>\n",
       "      <td>Facilities in Golden Gate Park, in cases where...</td>\n",
       "      <td>RPD</td>\n",
       "      <td>Museums and Art</td>\n",
       "      <td>museum</td>\n",
       "      <td>Other</td>\n",
       "      <td>1879.0</td>\n",
       "      <td>2003.0</td>\n",
       "      <td>27900</td>\n",
       "      <td>212.2</td>\n",
       "      <td>NaN</td>\n",
       "    </tr>\n",
       "    <tr>\n",
       "      <th>15</th>\n",
       "      <td>1333</td>\n",
       "      <td>Asian Art Museum</td>\n",
       "      <td>NaN</td>\n",
       "      <td>AAM</td>\n",
       "      <td>Museums and Art</td>\n",
       "      <td>museum</td>\n",
       "      <td>Other</td>\n",
       "      <td>1917.0</td>\n",
       "      <td>2003.0</td>\n",
       "      <td>185000</td>\n",
       "      <td>194.0</td>\n",
       "      <td>NaN</td>\n",
       "    </tr>\n",
       "    <tr>\n",
       "      <th>16</th>\n",
       "      <td>237</td>\n",
       "      <td>De Young Museum</td>\n",
       "      <td>NaN</td>\n",
       "      <td>FAMSF</td>\n",
       "      <td>Museums and Art</td>\n",
       "      <td>museum</td>\n",
       "      <td>Other</td>\n",
       "      <td>2005.0</td>\n",
       "      <td>NaN</td>\n",
       "      <td>292500</td>\n",
       "      <td>180.1</td>\n",
       "      <td>NaN</td>\n",
       "    </tr>\n",
       "    <tr>\n",
       "      <th>17</th>\n",
       "      <td>697</td>\n",
       "      <td>California Academy of Sciences</td>\n",
       "      <td>NaN</td>\n",
       "      <td>CAS</td>\n",
       "      <td>Museums and Art</td>\n",
       "      <td>museum</td>\n",
       "      <td>Other</td>\n",
       "      <td>2008.0</td>\n",
       "      <td>NaN</td>\n",
       "      <td>426000</td>\n",
       "      <td>147.5</td>\n",
       "      <td>NaN</td>\n",
       "    </tr>\n",
       "  </tbody>\n",
       "</table>\n",
       "</div>"
      ],
      "text/plain": [
       "   SFPUC Code                                  Facility  \\\n",
       "13        236  California Palace of the Legion of Honor   \n",
       "14        293            GGP -- Conservatory of Flowers   \n",
       "15       1333                          Asian Art Museum   \n",
       "16        237                           De Young Museum   \n",
       "17        697            California Academy of Sciences   \n",
       "\n",
       "                                                Notes   Dpt.  \\\n",
       "13                                                NaN  FAMSF   \n",
       "14  Facilities in Golden Gate Park, in cases where...    RPD   \n",
       "15                                                NaN    AAM   \n",
       "16                                                NaN  FAMSF   \n",
       "17                                                NaN    CAS   \n",
       "\n",
       "   General Building Category Facility Type ENERGY STAR Bldg Type  Year Built  \\\n",
       "13           Museums and Art        museum                 Other      1924.0   \n",
       "14           Museums and Art        museum                 Other      1879.0   \n",
       "15           Museums and Art        museum                 Other      1917.0   \n",
       "16           Museums and Art        museum                 Other      2005.0   \n",
       "17           Museums and Art        museum                 Other      2008.0   \n",
       "\n",
       "    Year Renov.  2013 Building Area (sq. ft.)  2013 Site EUI (kBtu/sq.ft.)  \\\n",
       "13       1995.0                        117665                        282.7   \n",
       "14       2003.0                         27900                        212.2   \n",
       "15       2003.0                        185000                        194.0   \n",
       "16          NaN                        292500                        180.1   \n",
       "17          NaN                        426000                        147.5   \n",
       "\n",
       "   2013 ENERGY STAR rating   \n",
       "13                      NaN  \n",
       "14                      NaN  \n",
       "15                      NaN  \n",
       "16                      NaN  \n",
       "17                      NaN  "
      ]
     },
     "execution_count": 9,
     "metadata": {},
     "output_type": "execute_result"
    }
   ],
   "source": [
    "museum_df = df[df[buildingCategory].isin(['Museums and Art'])]\n",
    "museum_df.sort_values(eui, ascending=False).head()"
   ]
  },
  {
   "cell_type": "code",
   "execution_count": 10,
   "metadata": {},
   "outputs": [
    {
     "data": {
      "image/png": "[encoded data removed]",
      "text/plain": [
       "<matplotlib.figure.Figure at 0x1c171a6d68>"
      ]
     },
     "metadata": {},
     "output_type": "display_data"
    }
   ],
   "source": [
    "museumLabel = museum_df['Facility'].head(10)\n",
    "museum_df.sort_values(eui, ascending=False).head(10).plot(kind='pie', y=eui, labels=museumLabel, legend=False)\n",
    "ax1 = plt.axes()\n",
    "y_axis = ax1.yaxis\n",
    "y_axis.label.set_visible(False)"
   ]
  },
  {
   "cell_type": "markdown",
   "metadata": {},
   "source": [
    "## Recreation Facilities"
   ]
  },
  {
   "cell_type": "code",
   "execution_count": 39,
   "metadata": {},
   "outputs": [
    {
     "data": {
      "text/html": [
       "<div>\n",
       "<style>\n",
       "    .dataframe thead tr:only-child th {\n",
       "        text-align: right;\n",
       "    }\n",
       "\n",
       "    .dataframe thead th {\n",
       "        text-align: left;\n",
       "    }\n",
       "\n",
       "    .dataframe tbody tr th {\n",
       "        vertical-align: top;\n",
       "    }\n",
       "</style>\n",
       "<table border=\"1\" class=\"dataframe\">\n",
       "  <thead>\n",
       "    <tr style=\"text-align: right;\">\n",
       "      <th></th>\n",
       "      <th>SFPUC Code</th>\n",
       "      <th>Facility</th>\n",
       "      <th>Notes</th>\n",
       "      <th>Dpt.</th>\n",
       "      <th>General Building Category</th>\n",
       "      <th>Facility Type</th>\n",
       "      <th>ENERGY STAR Bldg Type</th>\n",
       "      <th>Year Built</th>\n",
       "      <th>Year Renov.</th>\n",
       "      <th>2013 Building Area (sq. ft.)</th>\n",
       "      <th>2013 Site EUI (kBtu/sq.ft.)</th>\n",
       "      <th>2013 ENERGY STAR rating</th>\n",
       "    </tr>\n",
       "  </thead>\n",
       "  <tbody>\n",
       "    <tr>\n",
       "      <th>388</th>\n",
       "      <td>391</td>\n",
       "      <td>GGP -- Murphy Millwright's Cottage</td>\n",
       "      <td>NaN</td>\n",
       "      <td>RPD</td>\n",
       "      <td>Recreation Facilities</td>\n",
       "      <td>park building</td>\n",
       "      <td>Other</td>\n",
       "      <td>1904.0</td>\n",
       "      <td>2011.0</td>\n",
       "      <td>2960</td>\n",
       "      <td>617.9</td>\n",
       "      <td>NaN</td>\n",
       "    </tr>\n",
       "    <tr>\n",
       "      <th>379</th>\n",
       "      <td>382</td>\n",
       "      <td>Rossi Swimming Pool and Playground</td>\n",
       "      <td>NaN</td>\n",
       "      <td>RPD</td>\n",
       "      <td>Recreation Facilities</td>\n",
       "      <td>pool</td>\n",
       "      <td>Other</td>\n",
       "      <td>1958.0</td>\n",
       "      <td>NaN</td>\n",
       "      <td>15162</td>\n",
       "      <td>433.3</td>\n",
       "      <td>NaN</td>\n",
       "    </tr>\n",
       "    <tr>\n",
       "      <th>380</th>\n",
       "      <td>336</td>\n",
       "      <td>Charlie Sava Swimming Pool / Larsen Park</td>\n",
       "      <td>NaN</td>\n",
       "      <td>RPD</td>\n",
       "      <td>Recreation Facilities</td>\n",
       "      <td>pool</td>\n",
       "      <td>Other</td>\n",
       "      <td>1957.0</td>\n",
       "      <td>2008.0</td>\n",
       "      <td>12900</td>\n",
       "      <td>433.1</td>\n",
       "      <td>NaN</td>\n",
       "    </tr>\n",
       "    <tr>\n",
       "      <th>381</th>\n",
       "      <td>701</td>\n",
       "      <td>Coffman Pool / Herz Clubhouse and Playground</td>\n",
       "      <td>NaN</td>\n",
       "      <td>RPD</td>\n",
       "      <td>Recreation Facilities</td>\n",
       "      <td>pool</td>\n",
       "      <td>Other</td>\n",
       "      <td>1957.0</td>\n",
       "      <td>2008.0</td>\n",
       "      <td>12289</td>\n",
       "      <td>378.2</td>\n",
       "      <td>NaN</td>\n",
       "    </tr>\n",
       "    <tr>\n",
       "      <th>389</th>\n",
       "      <td>409</td>\n",
       "      <td>SF Zoo</td>\n",
       "      <td>NaN</td>\n",
       "      <td>RPD</td>\n",
       "      <td>Recreation Facilities</td>\n",
       "      <td>zoo</td>\n",
       "      <td>Other</td>\n",
       "      <td>1930.0</td>\n",
       "      <td>NaN</td>\n",
       "      <td>65799</td>\n",
       "      <td>356.4</td>\n",
       "      <td>NaN</td>\n",
       "    </tr>\n",
       "  </tbody>\n",
       "</table>\n",
       "</div>"
      ],
      "text/plain": [
       "    SFPUC Code                                      Facility Notes Dpt.  \\\n",
       "388        391            GGP -- Murphy Millwright's Cottage   NaN  RPD   \n",
       "379        382            Rossi Swimming Pool and Playground   NaN  RPD   \n",
       "380        336      Charlie Sava Swimming Pool / Larsen Park   NaN  RPD   \n",
       "381        701  Coffman Pool / Herz Clubhouse and Playground   NaN  RPD   \n",
       "389        409                                        SF Zoo   NaN  RPD   \n",
       "\n",
       "    General Building Category  Facility Type ENERGY STAR Bldg Type  \\\n",
       "388     Recreation Facilities  park building                 Other   \n",
       "379     Recreation Facilities           pool                 Other   \n",
       "380     Recreation Facilities           pool                 Other   \n",
       "381     Recreation Facilities           pool                 Other   \n",
       "389     Recreation Facilities            zoo                 Other   \n",
       "\n",
       "     Year Built  Year Renov.  2013 Building Area (sq. ft.)  \\\n",
       "388      1904.0       2011.0                          2960   \n",
       "379      1958.0          NaN                         15162   \n",
       "380      1957.0       2008.0                         12900   \n",
       "381      1957.0       2008.0                         12289   \n",
       "389      1930.0          NaN                         65799   \n",
       "\n",
       "     2013 Site EUI (kBtu/sq.ft.) 2013 ENERGY STAR rating   \n",
       "388                        617.9                      NaN  \n",
       "379                        433.3                      NaN  \n",
       "380                        433.1                      NaN  \n",
       "381                        378.2                      NaN  \n",
       "389                        356.4                      NaN  "
      ]
     },
     "execution_count": 39,
     "metadata": {},
     "output_type": "execute_result"
    }
   ],
   "source": [
    "recreation_df = df[df[buildingCategory].isin(['Recreation Facilities'])]\n",
    "recreation_df.sort_values(eui, ascending=False).head()"
   ]
  },
  {
   "cell_type": "code",
   "execution_count": 12,
   "metadata": {},
   "outputs": [
    {
     "data": {
      "image/png": "[encoded data removed]",
      "text/plain": [
       "<matplotlib.figure.Figure at 0x1c17345710>"
      ]
     },
     "metadata": {},
     "output_type": "display_data"
    }
   ],
   "source": [
    "recreation_label = recreation_df['Facility'].head(10)\n",
    "qx = recreation_df.sort_values(eui, ascending=False).head(10).plot(kind='pie', y=eui, labels=recreation_label, legend=False)\n",
    "ax1 = plt.axes()\n",
    "y_axis = ax1.yaxis\n",
    "y_axis.label.set_visible(False)"
   ]
  },
  {
   "cell_type": "markdown",
   "metadata": {},
   "source": [
    "## Education"
   ]
  },
  {
   "cell_type": "code",
   "execution_count": 13,
   "metadata": {
    "scrolled": true
   },
   "outputs": [
    {
     "data": {
      "text/html": [
       "<div>\n",
       "<style>\n",
       "    .dataframe thead tr:only-child th {\n",
       "        text-align: right;\n",
       "    }\n",
       "\n",
       "    .dataframe thead th {\n",
       "        text-align: left;\n",
       "    }\n",
       "\n",
       "    .dataframe tbody tr th {\n",
       "        vertical-align: top;\n",
       "    }\n",
       "</style>\n",
       "<table border=\"1\" class=\"dataframe\">\n",
       "  <thead>\n",
       "    <tr style=\"text-align: right;\">\n",
       "      <th></th>\n",
       "      <th>SFPUC Code</th>\n",
       "      <th>Facility</th>\n",
       "      <th>Notes</th>\n",
       "      <th>Dpt.</th>\n",
       "      <th>General Building Category</th>\n",
       "      <th>Facility Type</th>\n",
       "      <th>ENERGY STAR Bldg Type</th>\n",
       "      <th>Year Built</th>\n",
       "      <th>Year Renov.</th>\n",
       "      <th>2013 Building Area (sq. ft.)</th>\n",
       "      <th>2013 Site EUI (kBtu/sq.ft.)</th>\n",
       "      <th>2013 ENERGY STAR rating</th>\n",
       "    </tr>\n",
       "  </thead>\n",
       "  <tbody>\n",
       "    <tr>\n",
       "      <th>388</th>\n",
       "      <td>391</td>\n",
       "      <td>GGP -- Murphy Millwright's Cottage</td>\n",
       "      <td>NaN</td>\n",
       "      <td>RPD</td>\n",
       "      <td>Recreation Facilities</td>\n",
       "      <td>park building</td>\n",
       "      <td>Other</td>\n",
       "      <td>1904.0</td>\n",
       "      <td>2011.0</td>\n",
       "      <td>2960</td>\n",
       "      <td>617.9</td>\n",
       "      <td>NaN</td>\n",
       "    </tr>\n",
       "    <tr>\n",
       "      <th>379</th>\n",
       "      <td>382</td>\n",
       "      <td>Rossi Swimming Pool and Playground</td>\n",
       "      <td>NaN</td>\n",
       "      <td>RPD</td>\n",
       "      <td>Recreation Facilities</td>\n",
       "      <td>pool</td>\n",
       "      <td>Other</td>\n",
       "      <td>1958.0</td>\n",
       "      <td>NaN</td>\n",
       "      <td>15162</td>\n",
       "      <td>433.3</td>\n",
       "      <td>NaN</td>\n",
       "    </tr>\n",
       "    <tr>\n",
       "      <th>380</th>\n",
       "      <td>336</td>\n",
       "      <td>Charlie Sava Swimming Pool / Larsen Park</td>\n",
       "      <td>NaN</td>\n",
       "      <td>RPD</td>\n",
       "      <td>Recreation Facilities</td>\n",
       "      <td>pool</td>\n",
       "      <td>Other</td>\n",
       "      <td>1957.0</td>\n",
       "      <td>2008.0</td>\n",
       "      <td>12900</td>\n",
       "      <td>433.1</td>\n",
       "      <td>NaN</td>\n",
       "    </tr>\n",
       "    <tr>\n",
       "      <th>381</th>\n",
       "      <td>701</td>\n",
       "      <td>Coffman Pool / Herz Clubhouse and Playground</td>\n",
       "      <td>NaN</td>\n",
       "      <td>RPD</td>\n",
       "      <td>Recreation Facilities</td>\n",
       "      <td>pool</td>\n",
       "      <td>Other</td>\n",
       "      <td>1957.0</td>\n",
       "      <td>2008.0</td>\n",
       "      <td>12289</td>\n",
       "      <td>378.2</td>\n",
       "      <td>NaN</td>\n",
       "    </tr>\n",
       "    <tr>\n",
       "      <th>389</th>\n",
       "      <td>409</td>\n",
       "      <td>SF Zoo</td>\n",
       "      <td>NaN</td>\n",
       "      <td>RPD</td>\n",
       "      <td>Recreation Facilities</td>\n",
       "      <td>zoo</td>\n",
       "      <td>Other</td>\n",
       "      <td>1930.0</td>\n",
       "      <td>NaN</td>\n",
       "      <td>65799</td>\n",
       "      <td>356.4</td>\n",
       "      <td>NaN</td>\n",
       "    </tr>\n",
       "  </tbody>\n",
       "</table>\n",
       "</div>"
      ],
      "text/plain": [
       "    SFPUC Code                                      Facility Notes Dpt.  \\\n",
       "388        391            GGP -- Murphy Millwright's Cottage   NaN  RPD   \n",
       "379        382            Rossi Swimming Pool and Playground   NaN  RPD   \n",
       "380        336      Charlie Sava Swimming Pool / Larsen Park   NaN  RPD   \n",
       "381        701  Coffman Pool / Herz Clubhouse and Playground   NaN  RPD   \n",
       "389        409                                        SF Zoo   NaN  RPD   \n",
       "\n",
       "    General Building Category  Facility Type ENERGY STAR Bldg Type  \\\n",
       "388     Recreation Facilities  park building                 Other   \n",
       "379     Recreation Facilities           pool                 Other   \n",
       "380     Recreation Facilities           pool                 Other   \n",
       "381     Recreation Facilities           pool                 Other   \n",
       "389     Recreation Facilities            zoo                 Other   \n",
       "\n",
       "     Year Built  Year Renov.  2013 Building Area (sq. ft.)  \\\n",
       "388      1904.0       2011.0                          2960   \n",
       "379      1958.0          NaN                         15162   \n",
       "380      1957.0       2008.0                         12900   \n",
       "381      1957.0       2008.0                         12289   \n",
       "389      1930.0          NaN                         65799   \n",
       "\n",
       "     2013 Site EUI (kBtu/sq.ft.) 2013 ENERGY STAR rating   \n",
       "388                        617.9                      NaN  \n",
       "379                        433.3                      NaN  \n",
       "380                        433.1                      NaN  \n",
       "381                        378.2                      NaN  \n",
       "389                        356.4                      NaN  "
      ]
     },
     "execution_count": 13,
     "metadata": {},
     "output_type": "execute_result"
    }
   ],
   "source": [
    "education_df = df[df[buildingCategory].isin(['Education'])]\n",
    "recreation_df.sort_values(eui, ascending=False).head()"
   ]
  },
  {
   "cell_type": "code",
   "execution_count": 14,
   "metadata": {
    "scrolled": true
   },
   "outputs": [
    {
     "data": {
      "image/png": "[encoded data removed]",
      "text/plain": [
       "<matplotlib.figure.Figure at 0x1c174ed6a0>"
      ]
     },
     "metadata": {},
     "output_type": "display_data"
    }
   ],
   "source": [
    "education_label = education_df['Facility'].head(10)\n",
    "qx = education_df.sort_values(eui, ascending=False).head(10).plot(kind='pie', y=eui, labels=education_label, legend=False)\n",
    "ax1 = plt.axes()\n",
    "y_axis = ax1.yaxis\n",
    "y_axis.label.set_visible(False)"
   ]
  },
  {
   "cell_type": "code",
   "execution_count": 15,
   "metadata": {
    "scrolled": false
   },
   "outputs": [
    {
     "data": {
      "text/html": [
       "<div>\n",
       "<style>\n",
       "    .dataframe thead tr:only-child th {\n",
       "        text-align: right;\n",
       "    }\n",
       "\n",
       "    .dataframe thead th {\n",
       "        text-align: left;\n",
       "    }\n",
       "\n",
       "    .dataframe tbody tr th {\n",
       "        vertical-align: top;\n",
       "    }\n",
       "</style>\n",
       "<table border=\"1\" class=\"dataframe\">\n",
       "  <thead>\n",
       "    <tr style=\"text-align: right;\">\n",
       "      <th></th>\n",
       "      <th>Year Built</th>\n",
       "      <th>Year Renov.</th>\n",
       "      <th>2013 Building Area (sq. ft.)</th>\n",
       "      <th>2013 Site EUI (kBtu/sq.ft.)</th>\n",
       "    </tr>\n",
       "    <tr>\n",
       "      <th>Facility Type</th>\n",
       "      <th></th>\n",
       "      <th></th>\n",
       "      <th></th>\n",
       "      <th></th>\n",
       "    </tr>\n",
       "  </thead>\n",
       "  <tbody>\n",
       "    <tr>\n",
       "      <th>Childcare/Nursery School</th>\n",
       "      <td>1956.133333</td>\n",
       "      <td>1953.00</td>\n",
       "      <td>20121.600000</td>\n",
       "      <td>42.933333</td>\n",
       "    </tr>\n",
       "    <tr>\n",
       "      <th>K-12 School</th>\n",
       "      <td>1946.189189</td>\n",
       "      <td>1953.25</td>\n",
       "      <td>72815.063063</td>\n",
       "      <td>41.128829</td>\n",
       "    </tr>\n",
       "    <tr>\n",
       "      <th>childcare/nursery school</th>\n",
       "      <td>1971.000000</td>\n",
       "      <td>NaN</td>\n",
       "      <td>9323.250000</td>\n",
       "      <td>32.925000</td>\n",
       "    </tr>\n",
       "    <tr>\n",
       "      <th>college/adult education</th>\n",
       "      <td>1961.769231</td>\n",
       "      <td>2006.00</td>\n",
       "      <td>143615.000000</td>\n",
       "      <td>68.592308</td>\n",
       "    </tr>\n",
       "  </tbody>\n",
       "</table>\n",
       "</div>"
      ],
      "text/plain": [
       "                           Year Built  Year Renov.  \\\n",
       "Facility Type                                        \n",
       "Childcare/Nursery School  1956.133333      1953.00   \n",
       "K-12 School               1946.189189      1953.25   \n",
       "childcare/nursery school  1971.000000          NaN   \n",
       "college/adult education   1961.769231      2006.00   \n",
       "\n",
       "                          2013 Building Area (sq. ft.)  \\\n",
       "Facility Type                                            \n",
       "Childcare/Nursery School                  20121.600000   \n",
       "K-12 School                               72815.063063   \n",
       "childcare/nursery school                   9323.250000   \n",
       "college/adult education                  143615.000000   \n",
       "\n",
       "                          2013 Site EUI (kBtu/sq.ft.)  \n",
       "Facility Type                                          \n",
       "Childcare/Nursery School                    42.933333  \n",
       "K-12 School                                 41.128829  \n",
       "childcare/nursery school                    32.925000  \n",
       "college/adult education                     68.592308  "
      ]
     },
     "execution_count": 15,
     "metadata": {},
     "output_type": "execute_result"
    }
   ],
   "source": [
    "bySchoolType = education_df.groupby('Facility Type').mean()\n",
    "bySchoolType"
   ]
  },
  {
   "cell_type": "code",
   "execution_count": 16,
   "metadata": {
    "scrolled": false
   },
   "outputs": [
    {
     "data": {
      "text/plain": [
       "<matplotlib.axes._subplots.AxesSubplot at 0x1c174d22b0>"
      ]
     },
     "execution_count": 16,
     "metadata": {},
     "output_type": "execute_result"
    },
    {
     "data": {
      "image/png": "[encoded data removed]",
      "text/plain": [
       "<matplotlib.figure.Figure at 0x10917b828>"
      ]
     },
     "metadata": {},
     "output_type": "display_data"
    }
   ],
   "source": [
    "bySchoolType.plot(y=eui, kind='bar')"
   ]
  },
  {
   "cell_type": "markdown",
   "metadata": {},
   "source": [
    "## Build Year Analysis"
   ]
  },
  {
   "cell_type": "code",
   "execution_count": 17,
   "metadata": {},
   "outputs": [],
   "source": [
    "df['Year Renov.'].fillna(df[yearBuilt], inplace=True)\n",
    "constructionYear_df = df.rename(columns={'Year Renov.': 'Year Built/Renovated'})"
   ]
  },
  {
   "cell_type": "code",
   "execution_count": 18,
   "metadata": {
    "scrolled": true
   },
   "outputs": [
    {
     "data": {
      "text/html": [
       "<div>\n",
       "<style>\n",
       "    .dataframe thead tr:only-child th {\n",
       "        text-align: right;\n",
       "    }\n",
       "\n",
       "    .dataframe thead th {\n",
       "        text-align: left;\n",
       "    }\n",
       "\n",
       "    .dataframe tbody tr th {\n",
       "        vertical-align: top;\n",
       "    }\n",
       "</style>\n",
       "<table border=\"1\" class=\"dataframe\">\n",
       "  <thead>\n",
       "    <tr style=\"text-align: right;\">\n",
       "      <th></th>\n",
       "      <th>Year Built</th>\n",
       "      <th>Year Renov.</th>\n",
       "      <th>2013 Building Area (sq. ft.)</th>\n",
       "      <th>2013 Site EUI (kBtu/sq.ft.)</th>\n",
       "    </tr>\n",
       "    <tr>\n",
       "      <th>year_range</th>\n",
       "      <th></th>\n",
       "      <th></th>\n",
       "      <th></th>\n",
       "      <th></th>\n",
       "    </tr>\n",
       "  </thead>\n",
       "  <tbody>\n",
       "    <tr>\n",
       "      <th>1880-1889</th>\n",
       "      <td>1888.000000</td>\n",
       "      <td>1888.000000</td>\n",
       "      <td>14000.000000</td>\n",
       "      <td>8.800000</td>\n",
       "    </tr>\n",
       "    <tr>\n",
       "      <th>1890-1899</th>\n",
       "      <td>1895.000000</td>\n",
       "      <td>1895.000000</td>\n",
       "      <td>12300.000000</td>\n",
       "      <td>40.800000</td>\n",
       "    </tr>\n",
       "    <tr>\n",
       "      <th>1900-1909</th>\n",
       "      <td>1904.800000</td>\n",
       "      <td>1904.800000</td>\n",
       "      <td>17334.800000</td>\n",
       "      <td>58.760000</td>\n",
       "    </tr>\n",
       "    <tr>\n",
       "      <th>1910-1919</th>\n",
       "      <td>1912.826087</td>\n",
       "      <td>1912.826087</td>\n",
       "      <td>34816.304348</td>\n",
       "      <td>51.686957</td>\n",
       "    </tr>\n",
       "    <tr>\n",
       "      <th>1920-1929</th>\n",
       "      <td>1924.146341</td>\n",
       "      <td>1924.756098</td>\n",
       "      <td>60754.536585</td>\n",
       "      <td>51.414634</td>\n",
       "    </tr>\n",
       "    <tr>\n",
       "      <th>1930-1939</th>\n",
       "      <td>1932.625000</td>\n",
       "      <td>1933.375000</td>\n",
       "      <td>72273.156250</td>\n",
       "      <td>60.528125</td>\n",
       "    </tr>\n",
       "    <tr>\n",
       "      <th>1940-1949</th>\n",
       "      <td>1944.941176</td>\n",
       "      <td>1944.941176</td>\n",
       "      <td>131913.823529</td>\n",
       "      <td>58.005882</td>\n",
       "    </tr>\n",
       "    <tr>\n",
       "      <th>1950-1959</th>\n",
       "      <td>1952.213115</td>\n",
       "      <td>1954.180328</td>\n",
       "      <td>337722.557377</td>\n",
       "      <td>61.996721</td>\n",
       "    </tr>\n",
       "    <tr>\n",
       "      <th>1960-1969</th>\n",
       "      <td>1962.062500</td>\n",
       "      <td>1964.718750</td>\n",
       "      <td>91304.593750</td>\n",
       "      <td>46.437500</td>\n",
       "    </tr>\n",
       "    <tr>\n",
       "      <th>1970-1979</th>\n",
       "      <td>1970.274510</td>\n",
       "      <td>1973.960784</td>\n",
       "      <td>71594.176471</td>\n",
       "      <td>54.913725</td>\n",
       "    </tr>\n",
       "    <tr>\n",
       "      <th>1980-1989</th>\n",
       "      <td>1965.300000</td>\n",
       "      <td>1985.366667</td>\n",
       "      <td>110150.233333</td>\n",
       "      <td>53.956667</td>\n",
       "    </tr>\n",
       "    <tr>\n",
       "      <th>1990-1999</th>\n",
       "      <td>1957.532258</td>\n",
       "      <td>1995.500000</td>\n",
       "      <td>61356.516129</td>\n",
       "      <td>71.203226</td>\n",
       "    </tr>\n",
       "    <tr>\n",
       "      <th>2000-2009</th>\n",
       "      <td>1965.626866</td>\n",
       "      <td>2005.134328</td>\n",
       "      <td>68399.104478</td>\n",
       "      <td>92.285075</td>\n",
       "    </tr>\n",
       "  </tbody>\n",
       "</table>\n",
       "</div>"
      ],
      "text/plain": [
       "             Year Built  Year Renov.  2013 Building Area (sq. ft.)  \\\n",
       "year_range                                                           \n",
       "1880-1889   1888.000000  1888.000000                  14000.000000   \n",
       "1890-1899   1895.000000  1895.000000                  12300.000000   \n",
       "1900-1909   1904.800000  1904.800000                  17334.800000   \n",
       "1910-1919   1912.826087  1912.826087                  34816.304348   \n",
       "1920-1929   1924.146341  1924.756098                  60754.536585   \n",
       "1930-1939   1932.625000  1933.375000                  72273.156250   \n",
       "1940-1949   1944.941176  1944.941176                 131913.823529   \n",
       "1950-1959   1952.213115  1954.180328                 337722.557377   \n",
       "1960-1969   1962.062500  1964.718750                  91304.593750   \n",
       "1970-1979   1970.274510  1973.960784                  71594.176471   \n",
       "1980-1989   1965.300000  1985.366667                 110150.233333   \n",
       "1990-1999   1957.532258  1995.500000                  61356.516129   \n",
       "2000-2009   1965.626866  2005.134328                  68399.104478   \n",
       "\n",
       "            2013 Site EUI (kBtu/sq.ft.)  \n",
       "year_range                               \n",
       "1880-1889                      8.800000  \n",
       "1890-1899                     40.800000  \n",
       "1900-1909                     58.760000  \n",
       "1910-1919                     51.686957  \n",
       "1920-1929                     51.414634  \n",
       "1930-1939                     60.528125  \n",
       "1940-1949                     58.005882  \n",
       "1950-1959                     61.996721  \n",
       "1960-1969                     46.437500  \n",
       "1970-1979                     54.913725  \n",
       "1980-1989                     53.956667  \n",
       "1990-1999                     71.203226  \n",
       "2000-2009                     92.285075  "
      ]
     },
     "execution_count": 18,
     "metadata": {},
     "output_type": "execute_result"
    }
   ],
   "source": [
    "buildYear_df = constructionYear_df.groupby(['Year Built/Renovated']).mean()\n",
    "labels = [\n",
    "    '1880-1889',\n",
    "    '1890-1899',\n",
    "    '1900-1909', \n",
    "    '1910-1919', \n",
    "    '1920-1929', \n",
    "    '1930-1939',\n",
    "    '1940-1949', \n",
    "    '1950-1959', \n",
    "    '1960-1969',\n",
    "    '1970-1979',\n",
    "    '1980-1989',\n",
    "    '1990-1999',\n",
    "    '2000-2009',]\n",
    "df['year_range'] = pd.cut(constructionYear_df['Year Built/Renovated'], range(1880, 2011, 10), right=False, labels=labels)\n",
    "byYear = df.groupby(['year_range']).mean()\n",
    "byYear"
   ]
  },
  {
   "cell_type": "code",
   "execution_count": 19,
   "metadata": {
    "scrolled": true
   },
   "outputs": [
    {
     "data": {
      "text/plain": [
       "<matplotlib.axes._subplots.AxesSubplot at 0x1c178c41d0>"
      ]
     },
     "execution_count": 19,
     "metadata": {},
     "output_type": "execute_result"
    },
    {
     "data": {
      "image/png": "[encoded data removed]",
      "text/plain": [
       "<matplotlib.figure.Figure at 0x1c178a5128>"
      ]
     },
     "metadata": {},
     "output_type": "display_data"
    }
   ],
   "source": [
    "byYear.plot(y=eui)"
   ]
  },
  {
   "cell_type": "markdown",
   "metadata": {},
   "source": [
    "## Multiple Regression Analysis of EUI"
   ]
  },
  {
   "cell_type": "code",
   "execution_count": 35,
   "metadata": {
    "scrolled": false
   },
   "outputs": [
    {
     "data": {
      "text/html": [
       "<table class=\"simpletable\">\n",
       "<caption>OLS Regression Results</caption>\n",
       "<tr>\n",
       "  <th>Dep. Variable:</th>    <td>2013 Site EUI (kBtu/sq.ft.)</td> <th>  R-squared:         </th> <td>   0.012</td>\n",
       "</tr>\n",
       "<tr>\n",
       "  <th>Model:</th>                        <td>OLS</td>             <th>  Adj. R-squared:    </th> <td>   0.007</td>\n",
       "</tr>\n",
       "<tr>\n",
       "  <th>Method:</th>                  <td>Least Squares</td>        <th>  F-statistic:       </th> <td>   2.438</td>\n",
       "</tr>\n",
       "<tr>\n",
       "  <th>Date:</th>                  <td>Sun, 01 Oct 2017</td>       <th>  Prob (F-statistic):</th>  <td>0.0886</td> \n",
       "</tr>\n",
       "<tr>\n",
       "  <th>Time:</th>                      <td>01:04:08</td>           <th>  Log-Likelihood:    </th> <td> -2306.0</td>\n",
       "</tr>\n",
       "<tr>\n",
       "  <th>No. Observations:</th>           <td>   414</td>            <th>  AIC:               </th> <td>   4618.</td>\n",
       "</tr>\n",
       "<tr>\n",
       "  <th>Df Residuals:</th>               <td>   411</td>            <th>  BIC:               </th> <td>   4630.</td>\n",
       "</tr>\n",
       "<tr>\n",
       "  <th>Df Model:</th>                   <td>     2</td>            <th>                     </th>     <td> </td>   \n",
       "</tr>\n",
       "<tr>\n",
       "  <th>Covariance Type:</th>           <td>nonrobust</td>          <th>                     </th>     <td> </td>   \n",
       "</tr>\n",
       "</table>\n",
       "<table class=\"simpletable\">\n",
       "<tr>\n",
       "                <td></td>                  <th>coef</th>     <th>std err</th>      <th>t</th>      <th>P>|t|</th>  <th>[0.025</th>    <th>0.975]</th>  \n",
       "</tr>\n",
       "<tr>\n",
       "  <th>const</th>                        <td>  340.8398</td> <td>  212.002</td> <td>    1.608</td> <td> 0.109</td> <td>  -75.903</td> <td>  757.583</td>\n",
       "</tr>\n",
       "<tr>\n",
       "  <th>2013 Building Area (sq. ft.)</th> <td>   -0.0001</td> <td> 7.91e-05</td> <td>   -1.782</td> <td> 0.076</td> <td>   -0.000</td> <td> 1.45e-05</td>\n",
       "</tr>\n",
       "<tr>\n",
       "  <th>Year Built</th>                   <td>   -0.1387</td> <td>    0.109</td> <td>   -1.277</td> <td> 0.202</td> <td>   -0.352</td> <td>    0.075</td>\n",
       "</tr>\n",
       "</table>\n",
       "<table class=\"simpletable\">\n",
       "<tr>\n",
       "  <th>Omnibus:</th>       <td>357.177</td> <th>  Durbin-Watson:     </th> <td>   0.690</td>\n",
       "</tr>\n",
       "<tr>\n",
       "  <th>Prob(Omnibus):</th> <td> 0.000</td>  <th>  Jarque-Bera (JB):  </th> <td>7734.034</td>\n",
       "</tr>\n",
       "<tr>\n",
       "  <th>Skew:</th>          <td> 3.665</td>  <th>  Prob(JB):          </th> <td>    0.00</td>\n",
       "</tr>\n",
       "<tr>\n",
       "  <th>Kurtosis:</th>      <td>22.865</td>  <th>  Cond. No.          </th> <td>3.59e+06</td>\n",
       "</tr>\n",
       "</table>"
      ],
      "text/plain": [
       "<class 'statsmodels.iolib.summary.Summary'>\n",
       "\"\"\"\n",
       "                                 OLS Regression Results                                \n",
       "=======================================================================================\n",
       "Dep. Variable:     2013 Site EUI (kBtu/sq.ft.)   R-squared:                       0.012\n",
       "Model:                                     OLS   Adj. R-squared:                  0.007\n",
       "Method:                          Least Squares   F-statistic:                     2.438\n",
       "Date:                         Sun, 01 Oct 2017   Prob (F-statistic):             0.0886\n",
       "Time:                                 01:04:08   Log-Likelihood:                -2306.0\n",
       "No. Observations:                          414   AIC:                             4618.\n",
       "Df Residuals:                              411   BIC:                             4630.\n",
       "Df Model:                                    2                                         \n",
       "Covariance Type:                     nonrobust                                         \n",
       "================================================================================================\n",
       "                                   coef    std err          t      P>|t|      [0.025      0.975]\n",
       "------------------------------------------------------------------------------------------------\n",
       "const                          340.8398    212.002      1.608      0.109     -75.903     757.583\n",
       "2013 Building Area (sq. ft.)    -0.0001   7.91e-05     -1.782      0.076      -0.000    1.45e-05\n",
       "Year Built                      -0.1387      0.109     -1.277      0.202      -0.352       0.075\n",
       "==============================================================================\n",
       "Omnibus:                      357.177   Durbin-Watson:                   0.690\n",
       "Prob(Omnibus):                  0.000   Jarque-Bera (JB):             7734.034\n",
       "Skew:                           3.665   Prob(JB):                         0.00\n",
       "Kurtosis:                      22.865   Cond. No.                     3.59e+06\n",
       "==============================================================================\n",
       "\n",
       "Warnings:\n",
       "[1] Standard Errors assume that the covariance matrix of the errors is correctly specified.\n",
       "[2] The condition number is large, 3.59e+06. This might indicate that there are\n",
       "strong multicollinearity or other numerical problems.\n",
       "\"\"\""
      ]
     },
     "execution_count": 35,
     "metadata": {},
     "output_type": "execute_result"
    }
   ],
   "source": [
    "filtered_df = df[df[buildingArea] < 200000]\n",
    "filtered_df = filtered_df[pd.notnull(filtered_df[yearBuilt])]\n",
    "y = filtered_df[eui].astype(float)\n",
    "X = filtered_df[[buildingArea, yearBuilt]].astype(float)\n",
    "X = sm.add_constant(X)\n",
    "\n",
    "model = sm.OLS(y, X).fit()\n",
    "predictions = model.predict(X)\n",
    "model.summary()"
   ]
  },
  {
   "cell_type": "code",
   "execution_count": 30,
   "metadata": {},
   "outputs": [
    {
     "data": {
      "text/plain": [
       "<matplotlib.axes._subplots.AxesSubplot at 0x1c1819b5f8>"
      ]
     },
     "execution_count": 30,
     "metadata": {},
     "output_type": "execute_result"
    },
    {
     "data": {
      "image/png": "[encoded data removed]",
      "text/plain": [
       "<matplotlib.figure.Figure at 0x1c18188f60>"
      ]
     },
     "metadata": {},
     "output_type": "display_data"
    }
   ],
   "source": [
    "df.plot.scatter(x=buildingArea, y=eui)"
   ]
  },
  {
   "cell_type": "markdown",
   "metadata": {},
   "source": [
    "## Regressional Analysis of Build Year"
   ]
  },
  {
   "cell_type": "code",
   "execution_count": 31,
   "metadata": {},
   "outputs": [
    {
     "data": {
      "text/html": [
       "<table class=\"simpletable\">\n",
       "<caption>OLS Regression Results</caption>\n",
       "<tr>\n",
       "  <th>Dep. Variable:</th>    <td>2013 Site EUI (kBtu/sq.ft.)</td> <th>  R-squared:         </th> <td>   0.507</td>\n",
       "</tr>\n",
       "<tr>\n",
       "  <th>Model:</th>                        <td>OLS</td>             <th>  Adj. R-squared:    </th> <td>   0.506</td>\n",
       "</tr>\n",
       "<tr>\n",
       "  <th>Method:</th>                  <td>Least Squares</td>        <th>  F-statistic:       </th> <td>   469.3</td>\n",
       "</tr>\n",
       "<tr>\n",
       "  <th>Date:</th>                  <td>Sun, 01 Oct 2017</td>       <th>  Prob (F-statistic):</th> <td>4.02e-72</td>\n",
       "</tr>\n",
       "<tr>\n",
       "  <th>Time:</th>                      <td>01:03:40</td>           <th>  Log-Likelihood:    </th> <td> -2556.4</td>\n",
       "</tr>\n",
       "<tr>\n",
       "  <th>No. Observations:</th>           <td>   458</td>            <th>  AIC:               </th> <td>   5115.</td>\n",
       "</tr>\n",
       "<tr>\n",
       "  <th>Df Residuals:</th>               <td>   457</td>            <th>  BIC:               </th> <td>   5119.</td>\n",
       "</tr>\n",
       "<tr>\n",
       "  <th>Df Model:</th>                   <td>     1</td>            <th>                     </th>     <td> </td>   \n",
       "</tr>\n",
       "<tr>\n",
       "  <th>Covariance Type:</th>           <td>nonrobust</td>          <th>                     </th>     <td> </td>   \n",
       "</tr>\n",
       "</table>\n",
       "<table class=\"simpletable\">\n",
       "<tr>\n",
       "            <td></td>              <th>coef</th>     <th>std err</th>      <th>t</th>      <th>P>|t|</th>  <th>[0.025</th>    <th>0.975]</th>  \n",
       "</tr>\n",
       "<tr>\n",
       "  <th>Year Built/Renovated</th> <td>    0.0331</td> <td>    0.002</td> <td>   21.664</td> <td> 0.000</td> <td>    0.030</td> <td>    0.036</td>\n",
       "</tr>\n",
       "</table>\n",
       "<table class=\"simpletable\">\n",
       "<tr>\n",
       "  <th>Omnibus:</th>       <td>384.680</td> <th>  Durbin-Watson:     </th> <td>   0.634</td>\n",
       "</tr>\n",
       "<tr>\n",
       "  <th>Prob(Omnibus):</th> <td> 0.000</td>  <th>  Jarque-Bera (JB):  </th> <td>7920.624</td>\n",
       "</tr>\n",
       "<tr>\n",
       "  <th>Skew:</th>          <td> 3.591</td>  <th>  Prob(JB):          </th> <td>    0.00</td>\n",
       "</tr>\n",
       "<tr>\n",
       "  <th>Kurtosis:</th>      <td>22.065</td>  <th>  Cond. No.          </th> <td>    1.00</td>\n",
       "</tr>\n",
       "</table>"
      ],
      "text/plain": [
       "<class 'statsmodels.iolib.summary.Summary'>\n",
       "\"\"\"\n",
       "                                 OLS Regression Results                                \n",
       "=======================================================================================\n",
       "Dep. Variable:     2013 Site EUI (kBtu/sq.ft.)   R-squared:                       0.507\n",
       "Model:                                     OLS   Adj. R-squared:                  0.506\n",
       "Method:                          Least Squares   F-statistic:                     469.3\n",
       "Date:                         Sun, 01 Oct 2017   Prob (F-statistic):           4.02e-72\n",
       "Time:                                 01:03:40   Log-Likelihood:                -2556.4\n",
       "No. Observations:                          458   AIC:                             5115.\n",
       "Df Residuals:                              457   BIC:                             5119.\n",
       "Df Model:                                    1                                         \n",
       "Covariance Type:                     nonrobust                                         \n",
       "========================================================================================\n",
       "                           coef    std err          t      P>|t|      [0.025      0.975]\n",
       "----------------------------------------------------------------------------------------\n",
       "Year Built/Renovated     0.0331      0.002     21.664      0.000       0.030       0.036\n",
       "==============================================================================\n",
       "Omnibus:                      384.680   Durbin-Watson:                   0.634\n",
       "Prob(Omnibus):                  0.000   Jarque-Bera (JB):             7920.624\n",
       "Skew:                           3.591   Prob(JB):                         0.00\n",
       "Kurtosis:                      22.065   Cond. No.                         1.00\n",
       "==============================================================================\n",
       "\n",
       "Warnings:\n",
       "[1] Standard Errors assume that the covariance matrix of the errors is correctly specified.\n",
       "\"\"\""
      ]
     },
     "execution_count": 31,
     "metadata": {},
     "output_type": "execute_result"
    }
   ],
   "source": [
    "noNull_df = constructionYear_df[pd.notnull(constructionYear_df['Year Built/Renovated'])]\n",
    "noNull_df\n",
    "eui_df = noNull_df[[eui]].astype(float)\n",
    "yearBuilt_df = noNull_df[['Year Built/Renovated']].astype(float)\n",
    "model = sm.OLS(eui_df, yearBuilt_df).fit()\n",
    "predictions = model.predict(eui_df)\n",
    "model.summary()\n"
   ]
  },
  {
   "cell_type": "code",
   "execution_count": 331,
   "metadata": {},
   "outputs": [
    {
     "data": {
      "text/plain": [
       "<matplotlib.axes._subplots.AxesSubplot at 0x1c225b4a90>"
      ]
     },
     "execution_count": 331,
     "metadata": {},
     "output_type": "execute_result"
    },
    {
     "data": {
      "image/png": "[encoded data removed]",
      "text/plain": [
       "<matplotlib.figure.Figure at 0x1c225b5a58>"
      ]
     },
     "metadata": {},
     "output_type": "display_data"
    }
   ],
   "source": [
    "df.plot.scatter(x=yearBuilt, y=eui)"
   ]
  },
  {
   "cell_type": "code",
   "execution_count": null,
   "metadata": {
    "collapsed": true
   },
   "outputs": [],
   "source": []
  }
 ],
 "metadata": {
  "kernelspec": {
   "display_name": "Python 3",
   "language": "python",
   "name": "python3"
  },
  "language_info": {
   "codemirror_mode": {
    "name": "ipython",
    "version": 3
   },
   "file_extension": ".py",
   "mimetype": "text/x-python",
   "name": "python",
   "nbconvert_exporter": "python",
   "pygments_lexer": "ipython3",
   "version": "3.6.2"
  }
 },
 "nbformat": 4,
 "nbformat_minor": 2
}
